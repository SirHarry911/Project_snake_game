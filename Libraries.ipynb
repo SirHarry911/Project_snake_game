{
 "cells": [
  {
   "cell_type": "code",
   "execution_count": 15,
   "id": "ec54f71b",
   "metadata": {},
   "outputs": [],
   "source": [
    "def speak(audio):\n",
    "       pass      #For now, we will write the conditions later.\n",
    "   \n"
   ]
  },
  {
   "cell_type": "code",
   "execution_count": 1,
   "id": "d8fa3491",
   "metadata": {},
   "outputs": [
    {
     "name": "stdout",
     "output_type": "stream",
     "text": [
      "Requirement already satisfied: openpyxl in d:\\python anaconda\\lib\\site-packages (3.0.9)Note: you may need to restart the kernel to use updated packages.\n",
      "\n",
      "Requirement already satisfied: et-xmlfile in d:\\python anaconda\\lib\\site-packages (from openpyxl) (1.1.0)\n"
     ]
    }
   ],
   "source": [
    "pip install openpyxl"
   ]
  },
  {
   "cell_type": "code",
   "execution_count": 2,
   "id": "621e3294",
   "metadata": {},
   "outputs": [
    {
     "name": "stdout",
     "output_type": "stream",
     "text": [
      "Collecting face_recognitionNote: you may need to restart the kernel to use updated packages.\n"
     ]
    },
    {
     "name": "stderr",
     "output_type": "stream",
     "text": [
      "  ERROR: Command errored out with exit status 1:\n",
      "   command: 'D:\\Python Anaconda\\python.exe' -u -c 'import io, os, sys, setuptools, tokenize; sys.argv[0] = '\"'\"'C:\\\\Users\\\\Harshdeep Singh\\\\AppData\\\\Local\\\\Temp\\\\pip-install-6xb6d4jf\\\\dlib_82a2c1d3cb5d47b4844bc178bb831310\\\\setup.py'\"'\"'; __file__='\"'\"'C:\\\\Users\\\\Harshdeep Singh\\\\AppData\\\\Local\\\\Temp\\\\pip-install-6xb6d4jf\\\\dlib_82a2c1d3cb5d47b4844bc178bb831310\\\\setup.py'\"'\"';f = getattr(tokenize, '\"'\"'open'\"'\"', open)(__file__) if os.path.exists(__file__) else io.StringIO('\"'\"'from setuptools import setup; setup()'\"'\"');code = f.read().replace('\"'\"'\\r\\n'\"'\"', '\"'\"'\\n'\"'\"');f.close();exec(compile(code, __file__, '\"'\"'exec'\"'\"'))' bdist_wheel -d 'C:\\Users\\Harshdeep Singh\\AppData\\Local\\Temp\\pip-wheel-ai37k09g'\n",
      "       cwd: C:\\Users\\Harshdeep Singh\\AppData\\Local\\Temp\\pip-install-6xb6d4jf\\dlib_82a2c1d3cb5d47b4844bc178bb831310\\\n",
      "  Complete output (8 lines):"
     ]
    },
    {
     "name": "stdout",
     "output_type": "stream",
     "text": [
      "\n",
      "  Downloading face_recognition-1.3.0-py2.py3-none-any.whl (15 kB)\n",
      "Collecting face-recognition-models>=0.3.0\n",
      "  Downloading face_recognition_models-0.3.0.tar.gz (100.1 MB)\n",
      "Requirement already satisfied: numpy in d:\\python anaconda\\lib\\site-packages (from face_recognition) (1.21.5)\n",
      "Collecting dlib>=19.7\n",
      "  Using cached dlib-19.24.0.tar.gz (3.2 MB)\n",
      "Requirement already satisfied: Pillow in d:\\python anaconda\\lib\\site-packages (from face_recognition) (9.0.1)\n",
      "Requirement already satisfied: Click>=6.0 in d:\\python anaconda\\lib\\site-packages (from face_recognition) (8.0.4)\n",
      "Requirement already satisfied: colorama in d:\\python anaconda\\lib\\site-packages (from Click>=6.0->face_recognition) (0.4.4)\n",
      "Building wheels for collected packages: dlib, face-recognition-models\n",
      "  Building wheel for dlib (setup.py): started\n",
      "  Building wheel for dlib (setup.py): finished with status 'error'\n",
      "  Running setup.py clean for dlib\n",
      "  Building wheel for face-recognition-models (setup.py): started\n",
      "  Building wheel for face-recognition-models (setup.py): finished with status 'done'\n",
      "  Created wheel for face-recognition-models: filename=face_recognition_models-0.3.0-py2.py3-none-any.whl size=100566186 sha256=06352df7c9a002f6cf296e1563094bab3220a8219d938421debedb050a967fb6\n",
      "  Stored in directory: c:\\users\\harshdeep singh\\appdata\\local\\pip\\cache\\wheels\\22\\a8\\60\\4a2aeb763d63f50190f4c4e07069a22245347eeafdb3a67551\n",
      "Successfully built face-recognition-models\n",
      "Failed to build dlib\n",
      "Installing collected packages: face-recognition-models, dlib, face-recognition\n",
      "    Running setup.py install for dlib: started\n",
      "    Running setup.py install for dlib: finished with status 'error'\n"
     ]
    },
    {
     "name": "stderr",
     "output_type": "stream",
     "text": [
      "\n",
      "  running bdist_wheel\n",
      "  running build\n",
      "  running build_py\n",
      "  package init file 'tools\\python\\dlib\\__init__.py' not found (or not a regular file)\n",
      "  running build_ext\n",
      "  \n",
      "  ERROR: CMake must be installed to build dlib\n",
      "  \n",
      "  ----------------------------------------\n",
      "  ERROR: Failed building wheel for dlib\n",
      "    ERROR: Command errored out with exit status 1:\n",
      "     command: 'D:\\Python Anaconda\\python.exe' -u -c 'import io, os, sys, setuptools, tokenize; sys.argv[0] = '\"'\"'C:\\\\Users\\\\Harshdeep Singh\\\\AppData\\\\Local\\\\Temp\\\\pip-install-6xb6d4jf\\\\dlib_82a2c1d3cb5d47b4844bc178bb831310\\\\setup.py'\"'\"'; __file__='\"'\"'C:\\\\Users\\\\Harshdeep Singh\\\\AppData\\\\Local\\\\Temp\\\\pip-install-6xb6d4jf\\\\dlib_82a2c1d3cb5d47b4844bc178bb831310\\\\setup.py'\"'\"';f = getattr(tokenize, '\"'\"'open'\"'\"', open)(__file__) if os.path.exists(__file__) else io.StringIO('\"'\"'from setuptools import setup; setup()'\"'\"');code = f.read().replace('\"'\"'\\r\\n'\"'\"', '\"'\"'\\n'\"'\"');f.close();exec(compile(code, __file__, '\"'\"'exec'\"'\"'))' install --record 'C:\\Users\\Harshdeep Singh\\AppData\\Local\\Temp\\pip-record-uulac_gc\\install-record.txt' --single-version-externally-managed --compile --install-headers 'D:\\Python Anaconda\\Include\\dlib'\n",
      "         cwd: C:\\Users\\Harshdeep Singh\\AppData\\Local\\Temp\\pip-install-6xb6d4jf\\dlib_82a2c1d3cb5d47b4844bc178bb831310\\\n",
      "    Complete output (10 lines):\n",
      "    running install\n",
      "    D:\\Python Anaconda\\lib\\site-packages\\setuptools\\command\\install.py:34: SetuptoolsDeprecationWarning: setup.py install is deprecated. Use build and pip and other standards-based tools.\n",
      "      warnings.warn(\n",
      "    running build\n",
      "    running build_py\n",
      "    package init file 'tools\\python\\dlib\\__init__.py' not found (or not a regular file)\n",
      "    running build_ext\n",
      "    \n",
      "    ERROR: CMake must be installed to build dlib\n",
      "    \n",
      "    ----------------------------------------\n",
      "ERROR: Command errored out with exit status 1: 'D:\\Python Anaconda\\python.exe' -u -c 'import io, os, sys, setuptools, tokenize; sys.argv[0] = '\"'\"'C:\\\\Users\\\\Harshdeep Singh\\\\AppData\\\\Local\\\\Temp\\\\pip-install-6xb6d4jf\\\\dlib_82a2c1d3cb5d47b4844bc178bb831310\\\\setup.py'\"'\"'; __file__='\"'\"'C:\\\\Users\\\\Harshdeep Singh\\\\AppData\\\\Local\\\\Temp\\\\pip-install-6xb6d4jf\\\\dlib_82a2c1d3cb5d47b4844bc178bb831310\\\\setup.py'\"'\"';f = getattr(tokenize, '\"'\"'open'\"'\"', open)(__file__) if os.path.exists(__file__) else io.StringIO('\"'\"'from setuptools import setup; setup()'\"'\"');code = f.read().replace('\"'\"'\\r\\n'\"'\"', '\"'\"'\\n'\"'\"');f.close();exec(compile(code, __file__, '\"'\"'exec'\"'\"'))' install --record 'C:\\Users\\Harshdeep Singh\\AppData\\Local\\Temp\\pip-record-uulac_gc\\install-record.txt' --single-version-externally-managed --compile --install-headers 'D:\\Python Anaconda\\Include\\dlib' Check the logs for full command output.\n"
     ]
    }
   ],
   "source": [
    "pip install face_recognition"
   ]
  },
  {
   "cell_type": "code",
   "execution_count": 1,
   "id": "3eb9af16",
   "metadata": {},
   "outputs": [
    {
     "name": "stdout",
     "output_type": "stream",
     "text": [
      "Requirement already satisfied: opencv-python in d:\\python anaconda\\lib\\site-packages (4.6.0.66)\n",
      "Requirement already satisfied: numpy>=1.17.3 in d:\\python anaconda\\lib\\site-packages (from opencv-python) (1.21.5)\n",
      "Note: you may need to restart the kernel to use updated packages.\n"
     ]
    }
   ],
   "source": [
    "pip install opencv-python"
   ]
  },
  {
   "cell_type": "code",
   "execution_count": 3,
   "id": "b42a9ff4",
   "metadata": {},
   "outputs": [
    {
     "name": "stdout",
     "output_type": "stream",
     "text": [
      "Requirement already satisfied: pywhatkit in d:\\python anaconda\\lib\\site-packages (5.4)\n",
      "Requirement already satisfied: Flask in d:\\python anaconda\\lib\\site-packages (from pywhatkit) (1.1.2)\n",
      "Requirement already satisfied: pyautogui in d:\\python anaconda\\lib\\site-packages (from pywhatkit) (0.9.53)\n",
      "Requirement already satisfied: Pillow in d:\\python anaconda\\lib\\site-packages (from pywhatkit) (9.0.1)\n",
      "Requirement already satisfied: requests in d:\\python anaconda\\lib\\site-packages (from pywhatkit) (2.27.1)\n",
      "Requirement already satisfied: wikipedia in d:\\python anaconda\\lib\\site-packages (from pywhatkit) (1.4.0)\n",
      "Requirement already satisfied: Jinja2>=2.10.1 in d:\\python anaconda\\lib\\site-packages (from Flask->pywhatkit) (2.11.3)\n",
      "Requirement already satisfied: Werkzeug>=0.15 in d:\\python anaconda\\lib\\site-packages (from Flask->pywhatkit) (2.0.3)\n",
      "Requirement already satisfied: itsdangerous>=0.24 in d:\\python anaconda\\lib\\site-packages (from Flask->pywhatkit) (2.0.1)\n",
      "Requirement already satisfied: click>=5.1 in d:\\python anaconda\\lib\\site-packages (from Flask->pywhatkit) (8.0.4)\n",
      "Requirement already satisfied: colorama in d:\\python anaconda\\lib\\site-packages (from click>=5.1->Flask->pywhatkit) (0.4.4)\n",
      "Requirement already satisfied: MarkupSafe>=0.23 in d:\\python anaconda\\lib\\site-packages (from Jinja2>=2.10.1->Flask->pywhatkit) (2.0.1)\n",
      "Requirement already satisfied: pygetwindow>=0.0.5 in d:\\python anaconda\\lib\\site-packages (from pyautogui->pywhatkit) (0.0.9)\n",
      "Requirement already satisfied: mouseinfo in d:\\python anaconda\\lib\\site-packages (from pyautogui->pywhatkit) (0.1.3)\n",
      "Requirement already satisfied: pymsgbox in d:\\python anaconda\\lib\\site-packages (from pyautogui->pywhatkit) (1.0.9)\n",
      "Requirement already satisfied: pyscreeze>=0.1.21 in d:\\python anaconda\\lib\\site-packages (from pyautogui->pywhatkit) (0.1.28)\n",
      "Requirement already satisfied: PyTweening>=1.0.1 in d:\\python anaconda\\lib\\site-packages (from pyautogui->pywhatkit) (1.0.4)\n",
      "Requirement already satisfied: pyrect in d:\\python anaconda\\lib\\site-packages (from pygetwindow>=0.0.5->pyautogui->pywhatkit) (0.2.0)\n",
      "Requirement already satisfied: pyperclip in d:\\python anaconda\\lib\\site-packages (from mouseinfo->pyautogui->pywhatkit) (1.8.2)\n",
      "Requirement already satisfied: urllib3<1.27,>=1.21.1 in d:\\python anaconda\\lib\\site-packages (from requests->pywhatkit) (1.26.9)\n",
      "Requirement already satisfied: charset-normalizer~=2.0.0 in d:\\python anaconda\\lib\\site-packages (from requests->pywhatkit) (2.0.4)\n",
      "Requirement already satisfied: certifi>=2017.4.17 in d:\\python anaconda\\lib\\site-packages (from requests->pywhatkit) (2021.10.8)\n",
      "Requirement already satisfied: idna<4,>=2.5 in d:\\python anaconda\\lib\\site-packages (from requests->pywhatkit) (3.3)\n",
      "Requirement already satisfied: beautifulsoup4 in d:\\python anaconda\\lib\\site-packages (from wikipedia->pywhatkit) (4.11.1)\n",
      "Requirement already satisfied: soupsieve>1.2 in d:\\python anaconda\\lib\\site-packages (from beautifulsoup4->wikipedia->pywhatkit) (2.3.1)\n",
      "Note: you may need to restart the kernel to use updated packages.\n"
     ]
    }
   ],
   "source": [
    "pip install pywhatkit"
   ]
  },
  {
   "cell_type": "code",
   "execution_count": 12,
   "id": "189ab4a7",
   "metadata": {},
   "outputs": [
    {
     "name": "stdout",
     "output_type": "stream",
     "text": [
      "Collecting pyttsx3\n",
      "  Downloading pyttsx3-2.90-py3-none-any.whl (39 kB)\n",
      "Requirement already satisfied: pywin32 in d:\\python anaconda\\lib\\site-packages (from pyttsx3) (302)\n",
      "Requirement already satisfied: comtypes in d:\\python anaconda\\lib\\site-packages (from pyttsx3) (1.1.10)\n",
      "Collecting pypiwin32\n",
      "  Downloading pypiwin32-223-py3-none-any.whl (1.7 kB)\n",
      "Installing collected packages: pypiwin32, pyttsx3\n",
      "Successfully installed pypiwin32-223 pyttsx3-2.90\n",
      "Note: you may need to restart the kernel to use updated packages.\n"
     ]
    }
   ],
   "source": [
    "pip install pyttsx3"
   ]
  },
  {
   "cell_type": "code",
   "execution_count": 17,
   "id": "0f6e4185",
   "metadata": {},
   "outputs": [
    {
     "name": "stdout",
     "output_type": "stream",
     "text": [
      "Requirement already satisfied: pypiwin32 in d:\\python anaconda\\lib\\site-packages (223)\n",
      "Requirement already satisfied: pywin32>=223 in d:\\python anaconda\\lib\\site-packages (from pypiwin32) (302)\n",
      "Note: you may need to restart the kernel to use updated packages.\n"
     ]
    }
   ],
   "source": [
    "pip install pypiwin32"
   ]
  },
  {
   "cell_type": "code",
   "execution_count": 18,
   "id": "3c57967e",
   "metadata": {},
   "outputs": [
    {
     "name": "stdout",
     "output_type": "stream",
     "text": [
      "Collecting datetime\n",
      "  Downloading DateTime-4.7-py2.py3-none-any.whl (52 kB)\n",
      "Requirement already satisfied: zope.interface in d:\\python anaconda\\lib\\site-packages (from datetime) (5.4.0)\n",
      "Requirement already satisfied: pytz in d:\\python anaconda\\lib\\site-packages (from datetime) (2021.3)\n",
      "Requirement already satisfied: setuptools in d:\\python anaconda\\lib\\site-packages (from zope.interface->datetime) (61.2.0)\n",
      "Installing collected packages: datetime\n",
      "Successfully installed datetime-4.7\n",
      "Note: you may need to restart the kernel to use updated packages.\n"
     ]
    }
   ],
   "source": [
    "pip install datetime\n"
   ]
  },
  {
   "cell_type": "code",
   "execution_count": 19,
   "id": "00e326b9",
   "metadata": {},
   "outputs": [
    {
     "name": "stdout",
     "output_type": "stream",
     "text": [
      "Collecting wikipedia\n",
      "  Downloading wikipedia-1.4.0.tar.gz (27 kB)\n",
      "Requirement already satisfied: beautifulsoup4 in d:\\python anaconda\\lib\\site-packages (from wikipedia) (4.11.1)\n",
      "Requirement already satisfied: requests<3.0.0,>=2.0.0 in d:\\python anaconda\\lib\\site-packages (from wikipedia) (2.27.1)\n",
      "Requirement already satisfied: certifi>=2017.4.17 in d:\\python anaconda\\lib\\site-packages (from requests<3.0.0,>=2.0.0->wikipedia) (2021.10.8)\n",
      "Requirement already satisfied: idna<4,>=2.5 in d:\\python anaconda\\lib\\site-packages (from requests<3.0.0,>=2.0.0->wikipedia) (3.3)\n",
      "Requirement already satisfied: urllib3<1.27,>=1.21.1 in d:\\python anaconda\\lib\\site-packages (from requests<3.0.0,>=2.0.0->wikipedia) (1.26.9)\n",
      "Requirement already satisfied: charset-normalizer~=2.0.0 in d:\\python anaconda\\lib\\site-packages (from requests<3.0.0,>=2.0.0->wikipedia) (2.0.4)\n",
      "Requirement already satisfied: soupsieve>1.2 in d:\\python anaconda\\lib\\site-packages (from beautifulsoup4->wikipedia) (2.3.1)\n",
      "Building wheels for collected packages: wikipedia\n",
      "  Building wheel for wikipedia (setup.py): started\n",
      "  Building wheel for wikipedia (setup.py): finished with status 'done'\n",
      "  Created wheel for wikipedia: filename=wikipedia-1.4.0-py3-none-any.whl size=11695 sha256=13df944f120465c38106c7ced44d3912301948d2e780a76bba6a59b25c1eb3f3\n",
      "  Stored in directory: c:\\users\\harshdeep singh\\appdata\\local\\pip\\cache\\wheels\\c2\\46\\f4\\caa1bee71096d7b0cdca2f2a2af45cacf35c5760bee8f00948\n",
      "Successfully built wikipedia\n",
      "Installing collected packages: wikipedia\n",
      "Successfully installed wikipedia-1.4.0\n",
      "Note: you may need to restart the kernel to use updated packages.\n"
     ]
    }
   ],
   "source": [
    "pip install wikipedia"
   ]
  },
  {
   "cell_type": "code",
   "execution_count": 21,
   "id": "19256579",
   "metadata": {},
   "outputs": [
    {
     "name": "stdout",
     "output_type": "stream",
     "text": [
      "Note: you may need to restart the kernel to use updated packages.\n"
     ]
    },
    {
     "name": "stderr",
     "output_type": "stream",
     "text": [
      "ERROR: Could not find a version that satisfies the requirement webbrowser (from versions: none)\n",
      "ERROR: No matching distribution found for webbrowser\n"
     ]
    }
   ],
   "source": [
    "pip install webbrowser"
   ]
  },
  {
   "cell_type": "code",
   "execution_count": 22,
   "id": "a4849a4c",
   "metadata": {},
   "outputs": [
    {
     "name": "stdout",
     "output_type": "stream",
     "text": [
      "Note: you may need to restart the kernel to use updated packages.\n"
     ]
    },
    {
     "name": "stderr",
     "output_type": "stream",
     "text": [
      "ERROR: Could not find a version that satisfies the requirement os (from versions: none)\n",
      "ERROR: No matching distribution found for os\n"
     ]
    }
   ],
   "source": [
    "pip install os"
   ]
  },
  {
   "cell_type": "code",
   "execution_count": 23,
   "id": "7602b056",
   "metadata": {},
   "outputs": [
    {
     "name": "stdout",
     "output_type": "stream",
     "text": [
      "Note: you may need to restart the kernel to use updated packages.\n"
     ]
    },
    {
     "name": "stderr",
     "output_type": "stream",
     "text": [
      "ERROR: Could not find a version that satisfies the requirement smtplib (from versions: none)\n",
      "ERROR: No matching distribution found for smtplib\n"
     ]
    }
   ],
   "source": [
    "pip install smtplib"
   ]
  },
  {
   "cell_type": "code",
   "execution_count": 27,
   "id": "421caade",
   "metadata": {},
   "outputs": [
    {
     "name": "stdout",
     "output_type": "stream",
     "text": [
      "Collecting speechRecognition\n",
      "  Downloading SpeechRecognition-3.8.1-py2.py3-none-any.whl (32.8 MB)\n",
      "Installing collected packages: speechRecognition\n",
      "Successfully installed speechRecognition-3.8.1\n",
      "Note: you may need to restart the kernel to use updated packages.\n"
     ]
    }
   ],
   "source": [
    "pip install speechRecognition"
   ]
  },
  {
   "cell_type": "code",
   "execution_count": 28,
   "id": "696a646f",
   "metadata": {},
   "outputs": [
    {
     "name": "stdout",
     "output_type": "stream",
     "text": [
      "Collecting pyaudio\n",
      "  Downloading PyAudio-0.2.12-cp39-cp39-win_amd64.whl (163 kB)\n",
      "Installing collected packages: pyaudio\n",
      "Successfully installed pyaudio-0.2.12\n",
      "Note: you may need to restart the kernel to use updated packages.\n"
     ]
    }
   ],
   "source": [
    "pip install pyaudio"
   ]
  },
  {
   "cell_type": "code",
   "execution_count": 3,
   "id": "7737cb43",
   "metadata": {},
   "outputs": [
    {
     "name": "stdout",
     "output_type": "stream",
     "text": [
      "Collecting tk\n",
      "  Downloading tk-0.1.0-py3-none-any.whl (3.9 kB)\n",
      "Installing collected packages: tk\n",
      "Successfully installed tk-0.1.0\n",
      "Note: you may need to restart the kernel to use updated packages.\n"
     ]
    }
   ],
   "source": [
    "pip install tk"
   ]
  }
 ],
 "metadata": {
  "kernelspec": {
   "display_name": "Python 3 (ipykernel)",
   "language": "python",
   "name": "python3"
  },
  "language_info": {
   "codemirror_mode": {
    "name": "ipython",
    "version": 3
   },
   "file_extension": ".py",
   "mimetype": "text/x-python",
   "name": "python",
   "nbconvert_exporter": "python",
   "pygments_lexer": "ipython3",
   "version": "3.9.12"
  }
 },
 "nbformat": 4,
 "nbformat_minor": 5
}
